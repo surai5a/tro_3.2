{
 "cells": [
  {
   "cell_type": "markdown",
   "metadata": {},
   "source": [
    "# Лабораторная работа 3.2. Домашнее задание"
   ]
  },
  {
   "cell_type": "markdown",
   "metadata": {},
   "source": [
    "### Задание №1"
   ]
  },
  {
   "cell_type": "markdown",
   "metadata": {},
   "source": [
    "Создайте два массива: в первом должны быть четные числа от 2 до 12 включительно, а в другом числа 7, 11, 15, 18, 23, 29."
   ]
  },
  {
   "cell_type": "markdown",
   "metadata": {},
   "source": [
    "$1.$ Сложите массивы и возведите элементы получившегося массива в квадрат:"
   ]
  },
  {
   "cell_type": "code",
   "execution_count": 16,
   "metadata": {
    "tags": []
   },
   "outputs": [
    {
     "name": "stdout",
     "output_type": "stream",
     "text": [
      "[  81  225  441  676 1089 1681]\n"
     ]
    }
   ],
   "source": [
    "import numpy as np\n",
    "a = np.arange(2, 13, 2)\n",
    "b = np.array([7, 11, 15, 18, 23, 29])\n",
    "c = a + b\n",
    "print(c*c)"
   ]
  },
  {
   "cell_type": "markdown",
   "metadata": {},
   "source": [
    "$2.$ Выведите все элементы из первого массива, индексы которых соответствуют индексам тех элементов второго массива, которые больше 12 и дают остаток 3 при делении на 5."
   ]
  },
  {
   "cell_type": "code",
   "execution_count": 27,
   "metadata": {
    "tags": []
   },
   "outputs": [
    {
     "name": "stdout",
     "output_type": "stream",
     "text": [
      "a[b > 12 AND b % 5 == 3]  -  [ 8 10]\n",
      "a % 4 == 0 AND b < 14  -  [False  True False False False False]\n"
     ]
    }
   ],
   "source": [
    "# YOUR CODEimport numpy as np\n",
    "a = np.arange(2, 13, 2)\n",
    "b = np.array([7, 11, 15, 18, 23, 29])\n",
    "print('a[b > 12 AND b % 5 == 3]  - ', a[(b>12)&(b%5==3)])\n",
    "print('a % 4 == 0 AND b < 14  - ', (a%4==0)&(b<14))"
   ]
  },
  {
   "cell_type": "markdown",
   "metadata": {
    "tags": []
   },
   "source": [
    "*3.* Проверьте условие \"Элементы первого массива делятся на 4, элементы второго массива меньше 14\". (Подсказка: в результате должен получиться массив с True и False)"
   ]
  },
  {
   "cell_type": "markdown",
   "metadata": {},
   "source": [
    "### Задание №2"
   ]
  },
  {
   "cell_type": "markdown",
   "metadata": {},
   "source": [
    "* Найдите интересный для вас датасет. Например, можно выбрать датасет тут. http://data.un.org/Explorer.aspx (выбираете датасет, жмете на view data, потом download, выбирайте csv формат)\n",
    "* Рассчитайте подходящие описательные статистики для признаков объектов в выбранном датасете\n",
    "* Проанализируйте и прокомментируйте содержательно получившиеся результаты\n",
    "* Все комментарии оформляйте строго в ячейках формата markdown\n",
    "    "
   ]
  },
  {
   "cell_type": "code",
   "execution_count": 62,
   "metadata": {
    "tags": []
   },
   "outputs": [
    {
     "name": "stdout",
     "output_type": "stream",
     "text": [
      "Top 3 area of highest fertility\n",
      "1 Africa 2100 Constant fertility 6310901.126\n",
      "2 Africa 2099 Constant fertility 6123908.798\n",
      "3 Africa 2098 Constant fertility 5942625.796\n",
      "\n",
      "Top 3 area of smallest fertility\n",
      "1 Anguilla 1950 Medium 2.595\n",
      "2 Anguilla 1958 Medium 3.251\n",
      "3 Cayman Islands 1952 Medium 3.267\n",
      "\n",
      "Average fertility:  95203.92\n"
     ]
    }
   ],
   "source": [
    "import csv\n",
    "\n",
    "# 1 - Топ 3 страны с наименьшим числом женщин на 100 мужчин\n",
    "# 2 - Топ 3 страны с наибольшим числом женщин на 100 мужчин\n",
    "# 3 - Среднее значение\n",
    "\n",
    "max_three = []\n",
    "min_three = []\n",
    "counter = 0\n",
    "entsum = 0\n",
    "\n",
    "with open(\"popul.csv\", encoding='utf-8') as f:\n",
    "    reader = csv.DictReader(f)\n",
    "    for row in reader:\n",
    "        row['Value'] = float(row['Value'])\n",
    "        counter += 1\n",
    "        entsum += float(row.get('Value'))\n",
    "\n",
    "        if len(max_three) < 3:\n",
    "            max_three.append(row)\n",
    "        else:\n",
    "            if (row.get('Value') > max_three[0].get('Value')) and (row.get('Value') > max_three[1].get('Value')) and (row.get('Value') > max_three[2].get('Value')):\n",
    "                max_three[0] = row\n",
    "            if (row.get('Value') < max_three[0].get('Value')) and (row.get('Value') > max_three[1].get('Value')) and (row.get('Value') > max_three[2].get('Value')):\n",
    "                max_three[1] = row\n",
    "            if (row.get('Value') < max_three[0].get('Value')) and (row.get('Value') < max_three[1].get('Value')) and (row.get('Value') > max_three[2].get('Value')):\n",
    "                max_three[2] = row\n",
    "\n",
    "        if len(min_three) < 3:\n",
    "            min_three.append(row)\n",
    "        else:\n",
    "            if (row.get('Value') < min_three[0].get('Value')) and (row.get('Value') < min_three[1].get('Value')) and (row.get('Value') < min_three[2].get('Value')):\n",
    "                min_three[0] = row\n",
    "            if (row.get('Value') > min_three[0].get('Value')) and (row.get('Value') < min_three[1].get('Value')) and (row.get('Value') < min_three[2].get('Value')):\n",
    "                min_three[1] = row\n",
    "            if (row.get('Value') > min_three[0].get('Value')) and (row.get('Value') > min_three[1].get('Value')) and (row.get('Value') < min_three[2].get('Value')):\n",
    "                min_three[2] = row\n",
    "    \n",
    "    print('Top 3 area of highest fertility')\n",
    "    for j, i in enumerate(max_three):\n",
    "        print(j+1, i.get('Country or Area'), i.get('Year(s)'), i.get('Variant'), i.get('Value'))\n",
    "    print()\n",
    "    print('Top 3 area of smallest fertility')\n",
    "    for j, i in enumerate(min_three):\n",
    "        print(j+1, i.get('Country or Area'), i.get('Year(s)'), i.get('Variant'), i.get('Value'))\n",
    "    print()\n",
    "    print('Average fertility: ', round((entsum / counter), 2))\n"
   ]
  },
  {
   "cell_type": "code",
   "execution_count": null,
   "metadata": {},
   "outputs": [],
   "source": [
    "Данное иследование показало, что наиболее яркий демографический показатель будет иметь Африка к следующему столетию.\n",
    "Также иследование показало, что в середине прошлого века наименьший демографический показатель имела Ангилья.\n",
    "Средний относительный демографический показатель равняется ~95200"
   ]
  }
 ],
 "metadata": {
  "kernelspec": {
   "display_name": "Python 3 (ipykernel)",
   "language": "python",
   "name": "python3"
  },
  "language_info": {
   "codemirror_mode": {
    "name": "ipython",
    "version": 3
   },
   "file_extension": ".py",
   "mimetype": "text/x-python",
   "name": "python",
   "nbconvert_exporter": "python",
   "pygments_lexer": "ipython3",
   "version": "3.9.7"
  }
 },
 "nbformat": 4,
 "nbformat_minor": 4
}
