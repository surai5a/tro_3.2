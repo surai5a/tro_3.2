{
 "cells": [
  {
   "cell_type": "markdown",
   "metadata": {},
   "source": [
    "\n",
    "\n",
    "# Лабораторная работа 3.2. Знакомство с NumPy\n",
    "Библиотека NumPy -- быстрая библиотека для математики в Python, основная структура данных -- массив `numpy.array`:"
   ]
  },
  {
   "cell_type": "markdown",
   "metadata": {},
   "source": [
    "![](https://media.giphy.com/media/3o7btPCcdNniyf0ArS/giphy.gif)"
   ]
  },
  {
   "cell_type": "code",
   "execution_count": null,
   "metadata": {
    "collapsed": true,
    "jupyter": {
     "outputs_hidden": true
    }
   },
   "outputs": [],
   "source": [
    "# подключение модуля numpy под именем np\n",
    "import numpy as np"
   ]
  },
  {
   "cell_type": "code",
   "execution_count": null,
   "metadata": {},
   "outputs": [],
   "source": [
    "# основная структура данных - массив\n",
    "a = np.array([1, 2, 3, 4, 5])\n",
    "b = np.array([0.1, 0.2, 0.3, 0.4, 0.5])\n",
    "\n",
    "print(\"a =\", a)\n",
    "print(\"b =\", b)"
   ]
  },
  {
   "cell_type": "markdown",
   "metadata": {},
   "source": [
    "Создайте массив с 5 любыми числами:"
   ]
  },
  {
   "cell_type": "code",
   "execution_count": 3,
   "metadata": {},
   "outputs": [
    {
     "name": "stdout",
     "output_type": "stream",
     "text": [
      "[1 9 8 4 3]\n"
     ]
    }
   ],
   "source": [
    "import numpy as np\n",
    "mas = np.array([1, 9, 8, 4, 3])\n",
    "print(mas)"
   ]
  },
  {
   "cell_type": "markdown",
   "metadata": {},
   "source": [
    "Арифметические операции, в отличие от операций над списками, применяются поэлементно:"
   ]
  },
  {
   "cell_type": "code",
   "execution_count": 4,
   "metadata": {},
   "outputs": [
    {
     "name": "stdout",
     "output_type": "stream",
     "text": [
      "list1: [1, 2, 3]\n",
      "\tlist1 * 3: [1, 2, 3, 1, 2, 3, 1, 2, 3]\n",
      "\tlist1 + [1]: [1, 2, 3, 1]\n",
      "array1: [1 2 3]\n",
      "\tarray1 * 3: [3 6 9]\n",
      "\tarray1 + 1: [2 3 4]\n"
     ]
    }
   ],
   "source": [
    "list1 = [1, 2, 3]\n",
    "array1 = np.array([1, 2, 3])\n",
    "\n",
    "print(\"list1:\", list1)\n",
    "print('\\tlist1 * 3:', list1 * 3)\n",
    "print('\\tlist1 + [1]:', list1 + [1])\n",
    "\n",
    "print('array1:', array1)\n",
    "print('\\tarray1 * 3:', array1 * 3)\n",
    "print('\\tarray1 + 1:', array1 + 1)"
   ]
  },
  {
   "cell_type": "markdown",
   "metadata": {},
   "source": [
    "Создайте массив из 5 чисел. Возведите каждый элемент массива в степень 3"
   ]
  },
  {
   "cell_type": "code",
   "execution_count": 8,
   "metadata": {
    "tags": []
   },
   "outputs": [
    {
     "name": "stdout",
     "output_type": "stream",
     "text": [
      "mas = [1 9 8 4 3]\n",
      "mas^3 = [  1 729 512  64  27]\n"
     ]
    }
   ],
   "source": [
    "#YOUR CODEimport numpy as np\n",
    "mas = np.array([1, 9, 8, 4, 3])\n",
    "print(f'mas = {mas}')\n",
    "print(f'mas^3 = {(mas * mas * mas)}')"
   ]
  },
  {
   "cell_type": "markdown",
   "metadata": {},
   "source": [
    "Если в операции участвуют $2$ массива (по умолчанию -- одинакового размера), операции считаются для соответствующих пар:"
   ]
  },
  {
   "cell_type": "code",
   "execution_count": 9,
   "metadata": {
    "collapsed": true,
    "jupyter": {
     "outputs_hidden": true
    },
    "tags": []
   },
   "outputs": [
    {
     "ename": "NameError",
     "evalue": "name 'a' is not defined",
     "output_type": "error",
     "traceback": [
      "\u001b[1;31m---------------------------------------------------------------------------\u001b[0m",
      "\u001b[1;31mNameError\u001b[0m                                 Traceback (most recent call last)",
      "\u001b[1;32m~\\AppData\\Local\\Temp/ipykernel_8884/3525555132.py\u001b[0m in \u001b[0;36m<module>\u001b[1;34m\u001b[0m\n\u001b[1;32m----> 1\u001b[1;33m \u001b[0mprint\u001b[0m\u001b[1;33m(\u001b[0m\u001b[1;34m\"a + b =\"\u001b[0m\u001b[1;33m,\u001b[0m \u001b[0ma\u001b[0m \u001b[1;33m+\u001b[0m \u001b[0mb\u001b[0m\u001b[1;33m)\u001b[0m\u001b[1;33m\u001b[0m\u001b[1;33m\u001b[0m\u001b[0m\n\u001b[0m\u001b[0;32m      2\u001b[0m \u001b[0mprint\u001b[0m\u001b[1;33m(\u001b[0m\u001b[1;34m\"a * b =\"\u001b[0m\u001b[1;33m,\u001b[0m \u001b[0ma\u001b[0m \u001b[1;33m*\u001b[0m \u001b[0mb\u001b[0m\u001b[1;33m)\u001b[0m\u001b[1;33m\u001b[0m\u001b[1;33m\u001b[0m\u001b[0m\n",
      "\u001b[1;31mNameError\u001b[0m: name 'a' is not defined"
     ]
    }
   ],
   "source": [
    "print(\"a + b =\", a + b)\n",
    "print(\"a * b =\", a * b)"
   ]
  },
  {
   "cell_type": "code",
   "execution_count": null,
   "metadata": {
    "tags": []
   },
   "outputs": [],
   "source": [
    "# вот это разность\n",
    "print(\"a - b =\", a - b)\n",
    "\n",
    "# вот это деление\n",
    "print(\"a / b =\", a / b)\n",
    "\n",
    "# вот это целочисленное деление\n",
    "print(\"a // b =\", a // b)\n",
    "\n",
    "# вот это квадрат\n",
    "print(\"a ** 2 =\", a ** 2)"
   ]
  },
  {
   "cell_type": "markdown",
   "metadata": {},
   "source": [
    " Создайте два массива одинаковой длины. Выведите массив, полученный делением одного массива на другой."
   ]
  },
  {
   "cell_type": "code",
   "execution_count": 11,
   "metadata": {
    "tags": []
   },
   "outputs": [
    {
     "name": "stdout",
     "output_type": "stream",
     "text": [
      "[2 2 2 2 2]\n"
     ]
    }
   ],
   "source": [
    "mas_1 = np.array([2, 4, 6, 8, 10])\n",
    "mas_2 = np.array([1, 2, 3, 4, 5])\n",
    "print(mas_1 // mas_2)"
   ]
  },
  {
   "cell_type": "markdown",
   "metadata": {},
   "source": [
    "#### *Л — логика*\n",
    "К элементам массива можно применять логические операции.\n",
    "\n",
    "Возвращаемое значение -- массив, содержащий результаты вычислений для каждого элемента (`True` -- \"да\" или `False` -- \"нет\"):"
   ]
  },
  {
   "cell_type": "code",
   "execution_count": null,
   "metadata": {},
   "outputs": [],
   "source": [
    "print(\"a =\", a)\n",
    "print(\"\\ta > 1: \", a > 1)\n",
    "print(\"\\nb =\", b)\n",
    "print(\"\\tb < 0.5:  \", b < 0.5)\n",
    "\n",
    "print(\"\\nОдновременная проверка условий:\")\n",
    "print(\"\\t(a > 1) & (b < 0.5):  \", (a>1) & (b < 0.5))\n",
    "print(\"А вот это проверяет, что a > 1 ИЛИ b < 0.5:  \", (a > 1) | (b < 0.5))"
   ]
  },
  {
   "cell_type": "markdown",
   "metadata": {},
   "source": [
    "Создайте 2 массива из 5 элементов. Проверьте условие \"Элементы первого массива меньше 6, элементы второго массива делятся на 3\""
   ]
  },
  {
   "cell_type": "code",
   "execution_count": 15,
   "metadata": {
    "tags": []
   },
   "outputs": [
    {
     "name": "stdout",
     "output_type": "stream",
     "text": [
      "a < 6 =  [ True  True  True False False]\n",
      "b % 3 =  [ True  True False False  True]\n"
     ]
    }
   ],
   "source": [
    "import numpy as np\n",
    "a = np.array([1, 2, 3, 6, 7])\n",
    "b = np.array([3, 6, 8, 11, 15])\n",
    "print('a < 6 = ', a < 6)\n",
    "print('b % 3 = ', b % 3 == 0)"
   ]
  },
  {
   "cell_type": "markdown",
   "metadata": {},
   "source": [
    "Теперь проверьте условие \"Элементы первого массива делятся на 2 или элементы второго массива больше 2\""
   ]
  },
  {
   "cell_type": "code",
   "execution_count": 16,
   "metadata": {
    "tags": []
   },
   "outputs": [
    {
     "name": "stdout",
     "output_type": "stream",
     "text": [
      "a%2==0 OR b>2 -  [ True  True  True  True  True]\n"
     ]
    }
   ],
   "source": [
    "import numpy as np\n",
    "a = np.array([1, 2, 3, 6, 7])\n",
    "b = np.array([3, 6, 8, 11, 15])\n",
    "print('a%2==0 OR b>2 - ', (a % 2 == 0) | (b > 2))"
   ]
  },
  {
   "cell_type": "markdown",
   "metadata": {},
   "source": [
    "Зачем это нужно? Чтобы выбирать элементы массива, удовлетворяющие какому-нибудь условию:"
   ]
  },
  {
   "cell_type": "code",
   "execution_count": null,
   "metadata": {},
   "outputs": [],
   "source": [
    "print(\"a =\", a)\n",
    "print(\"a > 2:\", a > 2)\n",
    "# индексация - выбираем элементы из массива в тех позициях, где True\n",
    "print(\"a[a > 2]:\", a[a > 2])"
   ]
  },
  {
   "cell_type": "markdown",
   "metadata": {},
   "source": [
    "Создайте массив с элементами от 1 до 20. Выведите все элементы, которые больше 5 и не делятся на 2"
   ]
  },
  {
   "cell_type": "markdown",
   "metadata": {},
   "source": [
    "Подсказка: создать массив можно с помощью функции np.arange(), действие которой аналогично функции range, которую вы уже знаете."
   ]
  },
  {
   "cell_type": "code",
   "execution_count": 20,
   "metadata": {
    "tags": []
   },
   "outputs": [
    {
     "name": "stdout",
     "output_type": "stream",
     "text": [
      "[ 7  9 11 13 15 17 19]\n"
     ]
    }
   ],
   "source": [
    "import numpy as np\n",
    "mas = np.arange(1, 21)\n",
    "print(mas[(mas>5)&(mas%2!=0)])"
   ]
  },
  {
   "cell_type": "markdown",
   "metadata": {},
   "source": [
    "#### А ещё NumPy умеет...\n",
    "\n",
    "Все операции NumPy оптимизированы для быстрых вычислений над целыми массивами чисел и в методах `np.array` реализовано множество функций, которые могут вам понадобиться:"
   ]
  },
  {
   "cell_type": "code",
   "execution_count": null,
   "metadata": {},
   "outputs": [],
   "source": [
    "# теперь можно считать средний размер котиков в одну строку!\n",
    "print(\"np.mean(a) =\", np.mean(a))\n",
    "# минимальный элемент\n",
    "print(\"np.min(a) =\", np.min(a))\n",
    "# индекс минимального элемента\n",
    "print(\"np.argmin(a) =\", np.argmin(a))\n",
    "# вывести значения массива без дубликатов\n",
    "print(\"np.unique(['male', 'male', 'female', 'female', 'male']) =\", np.unique(['male', 'male', 'female', 'female', 'male']))\n",
    "\n",
    "# и ещё много всяких методов\n",
    "# Google в помощь"
   ]
  },
  {
   "cell_type": "markdown",
   "metadata": {},
   "source": [
    "---\n",
    "\n",
    "---\n",
    "\n",
    "Пора еще немного потренироваться с NumPy.\n",
    "\n",
    "Выполните операции, перечисленные ниже:"
   ]
  },
  {
   "cell_type": "code",
   "execution_count": 23,
   "metadata": {
    "tags": []
   },
   "outputs": [
    {
     "name": "stdout",
     "output_type": "stream",
     "text": [
      "Разность между a и b: [-1  1 -3 -3 -2]\n",
      "Квадраты элементов b: [  4   9  81  25 144]\n",
      "Половины произведений элементов массивов a и b: [ 1  6 27  5 60]\n",
      "\n",
      "Максимальный элемент b: 12\n",
      "Сумма элементов массива b: 31\n",
      "Индекс максимального элемента b: 4\n"
     ]
    }
   ],
   "source": [
    "import numpy as np\n",
    "a = np.array([1, 4, 6, 2, 10])\n",
    "b = np.array([2, 3, 9, 5, 12])\n",
    "\n",
    "print(\"Разность между a и b:\", a - b\n",
    "     )\n",
    "print(\"Квадраты элементов b:\", b*b\n",
    "     )\n",
    "print(\"Половины произведений элементов массивов a и b:\", a * b // 2\n",
    "     )\n",
    "\n",
    "print()\n",
    "print(\"Максимальный элемент b:\", np.max(b)\n",
    "     )\n",
    "print(\"Сумма элементов массива b:\", np.sum(b)\n",
    "     )\n",
    "print(\"Индекс максимального элемента b:\", np.argmax(b)\n",
    "     )"
   ]
  },
  {
   "cell_type": "markdown",
   "metadata": {},
   "source": [
    " Задайте два массива: [5, 2, 3, 12, 4, 5]   и   ['f', 'o', 'o', 'b', 'a', 'r']"
   ]
  },
  {
   "cell_type": "markdown",
   "metadata": {},
   "source": [
    "Выведите буквы из второго массива, индексы которых соответствуют индексам чисел из первого массива, которые больше 1, меньше 5 и делятся на 2"
   ]
  },
  {
   "cell_type": "code",
   "execution_count": 25,
   "metadata": {},
   "outputs": [
    {
     "name": "stdout",
     "output_type": "stream",
     "text": [
      "['o' 'a']\n"
     ]
    }
   ],
   "source": [
    "import numpy as np\n",
    "a = np.array([5, 2, 3, 12, 4, 5])\n",
    "b = np.array(['f', 'o', 'o', 'b', 'a', 'r'])\n",
    "print(b[(a>1)&(a<5)&(a%2==0)])"
   ]
  },
  {
   "cell_type": "code",
   "execution_count": null,
   "metadata": {},
   "outputs": [],
   "source": []
  }
 ],
 "metadata": {
  "kernelspec": {
   "display_name": "Python 3 (ipykernel)",
   "language": "python",
   "name": "python3"
  },
  "language_info": {
   "codemirror_mode": {
    "name": "ipython",
    "version": 3
   },
   "file_extension": ".py",
   "mimetype": "text/x-python",
   "name": "python",
   "nbconvert_exporter": "python",
   "pygments_lexer": "ipython3",
   "version": "3.9.7"
  },
  "name": "seminar1_python_intro_tools.ipynb"
 },
 "nbformat": 4,
 "nbformat_minor": 4
}
